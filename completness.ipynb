{
  "nbformat": 4,
  "nbformat_minor": 0,
  "metadata": {
    "colab": {
      "provenance": []
    },
    "kernelspec": {
      "name": "python3",
      "display_name": "Python 3"
    },
    "language_info": {
      "name": "python"
    }
  },
  "cells": [
    {
      "cell_type": "markdown",
      "source": [
        "# Completness"
      ],
      "metadata": {
        "id": "8Jbf83vknuQP"
      }
    },
    {
      "cell_type": "markdown",
      "source": [
        "The following code will output the completeness percentages for each column in your dataset. A higher percentage indicates a higher level of completeness, while a lower percentage suggests more missing values:"
      ],
      "metadata": {
        "id": "2N4cbWOkntYQ"
      }
    },
    {
      "cell_type": "markdown",
      "source": [
        "We’ll start by importing the pandas library to work with the dataset:"
      ],
      "metadata": {
        "id": "uu9stWpZn01r"
      }
    },
    {
      "cell_type": "code",
      "source": [
        "import pandas as pd"
      ],
      "metadata": {
        "id": "UTOrcpiOn2-T"
      },
      "execution_count": 1,
      "outputs": []
    },
    {
      "cell_type": "markdown",
      "source": [
        "Next, we create a sample dataset with the following columns: Name, Age, Gender, and City. Some values are missing (represented as None):"
      ],
      "metadata": {
        "id": "cSGUZoEun7eX"
      }
    },
    {
      "cell_type": "code",
      "source": [
        "data = {\n",
        "  'Name': ['Alice', 'Bob', 'Charlie', 'David', 'Eve'],\n",
        "  'Age': [25, 30, None, 28, 22],\n",
        "  'Gender': ['Female', 'Male', 'Male', 'Male', 'Female'],\n",
        "  'City': ['New York', 'Los Angeles', 'Chicago', None, 'San Francisco']\n",
        "}"
      ],
      "metadata": {
        "id": "sJ7rUCh0oEIa"
      },
      "execution_count": 2,
      "outputs": []
    },
    {
      "cell_type": "markdown",
      "source": [
        "Then, we create a pandas DataFrame:\n"
      ],
      "metadata": {
        "id": "d8P75YlgoH9h"
      }
    },
    {
      "cell_type": "code",
      "source": [
        "df = pd.DataFrame(data)"
      ],
      "metadata": {
        "id": "_x_3XKQJoTma"
      },
      "execution_count": 4,
      "outputs": []
    },
    {
      "cell_type": "markdown",
      "source": [
        "We’ll then use the isnull() function to identify missing values in each column and use the sum() function to count the total number of missing values for each column:"
      ],
      "metadata": {
        "id": "AeaspClGoMfs"
      }
    },
    {
      "cell_type": "markdown",
      "source": [],
      "metadata": {
        "id": "lmYUwN4soPGG"
      }
    },
    {
      "cell_type": "code",
      "source": [
        "completeness = df.isnull().sum()"
      ],
      "metadata": {
        "id": "uk1GyENsoPmu"
      },
      "execution_count": 5,
      "outputs": []
    },
    {
      "cell_type": "markdown",
      "source": [
        "Next, we’ll calculate the completeness percentage"
      ],
      "metadata": {
        "id": "nZ595jCaoZTF"
      }
    },
    {
      "cell_type": "code",
      "source": [
        "total_records = len(df)\n",
        "completeness_percentage = (1- completeness / total_records) * 100"
      ],
      "metadata": {
        "id": "7BAEatZ7oant"
      },
      "execution_count": 7,
      "outputs": []
    },
    {
      "cell_type": "code",
      "source": [
        "total_records"
      ],
      "metadata": {
        "colab": {
          "base_uri": "https://localhost:8080/"
        },
        "id": "sNn5lBGyqLe1",
        "outputId": "873f8cce-dc54-417e-8d18-9483d7ed30ce"
      },
      "execution_count": 10,
      "outputs": [
        {
          "output_type": "execute_result",
          "data": {
            "text/plain": [
              "5"
            ]
          },
          "metadata": {},
          "execution_count": 10
        }
      ]
    },
    {
      "cell_type": "markdown",
      "source": [
        "This will print the following output:"
      ],
      "metadata": {
        "id": "1jg4vUCUogdS"
      }
    },
    {
      "cell_type": "code",
      "source": [
        "print(\"Completeness Check:\")\n",
        "print(completeness)\n",
        "print(\"\\nCompleteness Percentage:\")\n",
        "print(completeness_percentage)"
      ],
      "metadata": {
        "colab": {
          "base_uri": "https://localhost:8080/"
        },
        "id": "Bhnjv04AohML",
        "outputId": "5b4bc593-62c3-4fa8-e90d-36afb581839d"
      },
      "execution_count": 9,
      "outputs": [
        {
          "output_type": "stream",
          "name": "stdout",
          "text": [
            "Completeness Check:\n",
            "Name      0\n",
            "Age       1\n",
            "Gender    0\n",
            "City      1\n",
            "dtype: int64\n",
            "\n",
            "Completeness Percentage:\n",
            "Name      100.0\n",
            "Age        80.0\n",
            "Gender    100.0\n",
            "City       80.0\n",
            "dtype: float64\n"
          ]
        }
      ]
    },
    {
      "cell_type": "markdown",
      "source": [
        "The completeness check shows the number of missing values for each column, and the completeness percentage indicates the proportion of missing values in each column relative to the total number of records. This output indicates that the Name and Gender columns have 100% completeness, whereas the Age and City columns have 80%."
      ],
      "metadata": {
        "id": "mn2hYeQSotPO"
      }
    },
    {
      "cell_type": "markdown",
      "source": [
        "#Summary"
      ],
      "metadata": {
        "id": "2X3QLTBRpApY"
      }
    },
    {
      "cell_type": "markdown",
      "source": [
        "The completeness percentage is calculated by dividing the count of missing values by the total number of records in the dataset and then multiplying by 100. It represents the proportion of missing values relative to the size of the dataset."
      ],
      "metadata": {
        "id": "gHwONP8PpDAz"
      }
    },
    {
      "cell_type": "markdown",
      "source": [
        "The higher the percentage of completeness is, the better!"
      ],
      "metadata": {
        "id": "MJ5dH3PBpFhZ"
      }
    }
  ]
}