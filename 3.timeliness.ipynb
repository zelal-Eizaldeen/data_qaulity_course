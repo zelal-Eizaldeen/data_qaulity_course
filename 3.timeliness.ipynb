{
  "nbformat": 4,
  "nbformat_minor": 0,
  "metadata": {
    "colab": {
      "provenance": [],
      "authorship_tag": "ABX9TyOuRGn+qjSCV9+ve0A+MHGE",
      "include_colab_link": true
    },
    "kernelspec": {
      "name": "python3",
      "display_name": "Python 3"
    },
    "language_info": {
      "name": "python"
    }
  },
  "cells": [
    {
      "cell_type": "markdown",
      "metadata": {
        "id": "view-in-github",
        "colab_type": "text"
      },
      "source": [
        "<a href=\"https://colab.research.google.com/github/zelal-Eizaldeen/data_qaulity_course/blob/main/3.timeliness.ipynb\" target=\"_parent\"><img src=\"https://colab.research.google.com/assets/colab-badge.svg\" alt=\"Open In Colab\"/></a>"
      ]
    },
    {
      "cell_type": "markdown",
      "source": [
        "https://github.com/zelal-Eizaldeen/data_qaulity_course"
      ],
      "metadata": {
        "id": "f1LY24zBMymW"
      }
    },
    {
      "cell_type": "markdown",
      "source": [
        "We start by importing the required libraries:"
      ],
      "metadata": {
        "id": "lB4h7vmdNYKE"
      }
    },
    {
      "cell_type": "code",
      "execution_count": 1,
      "metadata": {
        "id": "pKzXl9KIMtao"
      },
      "outputs": [],
      "source": [
        "import pandas as pd\n",
        "import numpy as np\n",
        "from datetime import datetime, timedelta"
      ]
    },
    {
      "cell_type": "markdown",
      "source": [
        "We then generate a random dataset with timestamps and values. The timestamps are randomly distributed within a given time range to simulate real-world data:"
      ],
      "metadata": {
        "id": "hfpyIVjCNeF9"
      }
    },
    {
      "cell_type": "code",
      "source": [
        "np.random.seed(0) # For reproducibility\n",
        "n_samples = 100\n",
        "start_time = datetime(2025, 6, 25, 9, 0, 0)\n",
        "end_time = datetime(2025, 6, 25, 16, 0, 0)\n",
        "timestamps = [start_time + timedelta(minutes=np.random.randint(0, (end_time - start_time).total_seconds() / 60)) for _ in range(n_samples)]\n",
        "values = np.random.randint(50, 101, n_samples)\n",
        "df = pd.DataFrame({'Timestamp': timestamps, 'Value': values})"
      ],
      "metadata": {
        "id": "yo4MF3cCNkub"
      },
      "execution_count": 2,
      "outputs": []
    },
    {
      "cell_type": "markdown",
      "source": [
        "We define a reference timestamp to compare the dataset’s timestamps to:"
      ],
      "metadata": {
        "id": "j5EO0OqVNqs8"
      }
    },
    {
      "cell_type": "code",
      "source": [
        "reference_timestamp = datetime(2025, 6, 25, 12, 0, 0)\n",
        "reference_timestamp"
      ],
      "metadata": {
        "colab": {
          "base_uri": "https://localhost:8080/"
        },
        "id": "v6IPgSkKNs-8",
        "outputId": "bfac9a83-d429-43a9-bd00-e6978f6e33e0"
      },
      "execution_count": 15,
      "outputs": [
        {
          "output_type": "execute_result",
          "data": {
            "text/plain": [
              "datetime.datetime(2025, 6, 25, 12, 0)"
            ]
          },
          "metadata": {},
          "execution_count": 15
        }
      ]
    },
    {
      "cell_type": "markdown",
      "source": [
        "We set a timeliness threshold of 30 minutes. Data with timestamps within 30 minutes of the reference timestamp will be considered timely:"
      ],
      "metadata": {
        "id": "ni71lw7uNziE"
      }
    },
    {
      "cell_type": "code",
      "source": [
        "timeliness_threshold = 30"
      ],
      "metadata": {
        "id": "LODJ-36CN2G4"
      },
      "execution_count": 4,
      "outputs": []
    },
    {
      "cell_type": "markdown",
      "source": [
        "We calculate the timeliness for each record in the dataset by computing the time difference in minutes between the reference timestamp and each record’s timestamp. We also create a Boolean column to indicate whether the record is timely based on the threshold:"
      ],
      "metadata": {
        "id": "WLBqNPo3N9ZT"
      }
    },
    {
      "cell_type": "code",
      "source": [
        "df['Timeliness'] = (reference_timestamp - df['Timestamp']).dt.total_seconds() / 60\n",
        "df['Timely'] = df['Timeliness'] <= timeliness_threshold"
      ],
      "metadata": {
        "id": "Tcv5heSrOAMv"
      },
      "execution_count": 5,
      "outputs": []
    },
    {
      "cell_type": "markdown",
      "source": [
        "Finally, we calculate the average timeliness of the dataset and display the results:"
      ],
      "metadata": {
        "id": "GwbK_DAROUPQ"
      }
    },
    {
      "cell_type": "code",
      "source": [
        "average_timeliness = df['Timeliness'].mean()"
      ],
      "metadata": {
        "id": "Orn4jmFdOXAJ"
      },
      "execution_count": 6,
      "outputs": []
    },
    {
      "cell_type": "markdown",
      "source": [
        "and Percentage of Timely Records : count of timely records / total records * 100"
      ],
      "metadata": {
        "id": "uUVfB03uSgJd"
      }
    },
    {
      "cell_type": "code",
      "source": [
        "percentage_timely_records = df['Timely'].sum() / len(df) * 100\n",
        "percentage_timely_records"
      ],
      "metadata": {
        "colab": {
          "base_uri": "https://localhost:8080/"
        },
        "id": "tHzOiCgwRnVk",
        "outputId": "a392c6f4-55b7-4167-e954-d3c81cd17379"
      },
      "execution_count": 13,
      "outputs": [
        {
          "output_type": "execute_result",
          "data": {
            "text/plain": [
              "np.float64(61.0)"
            ]
          },
          "metadata": {},
          "execution_count": 13
        }
      ]
    },
    {
      "cell_type": "markdown",
      "source": [
        "This will display the following output:"
      ],
      "metadata": {
        "id": "0XPpX_QXOZvE"
      }
    },
    {
      "cell_type": "code",
      "source": [
        "print(\"Dataset with Timestamps:\")\n",
        "print(df)\n",
        "print(f\"Average Timeliness (in minutes): {average_timeliness}\")\n",
        "print(f\"Percentage of Timely Records: {percentage_timely_records} %\")\n"
      ],
      "metadata": {
        "colab": {
          "base_uri": "https://localhost:8080/"
        },
        "id": "dsZe8qUMOuEf",
        "outputId": "e1d42f77-73d3-4698-9e83-3cff5ad7c951"
      },
      "execution_count": 14,
      "outputs": [
        {
          "output_type": "stream",
          "name": "stdout",
          "text": [
            "Dataset with Timestamps:\n",
            "             Timestamp  Value  Timeliness  Timely\n",
            "0  2023-10-25 11:52:00     71         8.0    True\n",
            "1  2023-10-25 09:47:00     98       133.0   False\n",
            "2  2023-10-25 10:57:00     99        63.0   False\n",
            "3  2023-10-25 12:12:00     55       -12.0    True\n",
            "4  2023-10-25 14:23:00     91      -143.0    True\n",
            "..                 ...    ...         ...     ...\n",
            "95 2023-10-25 11:28:00     66        32.0   False\n",
            "96 2023-10-25 12:47:00     69       -47.0    True\n",
            "97 2023-10-25 13:39:00     83       -99.0    True\n",
            "98 2023-10-25 12:27:00     90       -27.0    True\n",
            "99 2023-10-25 15:37:00     82      -217.0    True\n",
            "\n",
            "[100 rows x 4 columns]\n",
            "Average Timeliness (in minutes): -23.8\n",
            "Percentage of Timely Records: 61.0 %\n"
          ]
        }
      ]
    },
    {
      "cell_type": "markdown",
      "source": [
        "A low average timeliness and a high percentage of timely records suggest that the dataset is current and aligns well with the reference timestamp. This is desirable in real-time applications or scenarios where up-to-date data is critical."
      ],
      "metadata": {
        "id": "EaI8Jnq8QpJJ"
      }
    },
    {
      "cell_type": "markdown",
      "source": [
        "Here are some real applications of timeliness:\n",
        "- Finance: In the financial sector, timeliness is crucial for stock trading, fraud detection, and risk management, where timely data can lead to better decisions and reduced risks\n",
        "- Healthcare: Timeliness is vital for healthcare data, particularly in patient monitoring and real-time health data analysis\n",
        "- E-commerce: Timely data is essential for e-commerce companies to monitor sales, customer behavior, and inventory in real-time"
      ],
      "metadata": {
        "id": "nD2-t92jS9LP"
      }
    }
  ]
}