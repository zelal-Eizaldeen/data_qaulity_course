{
  "nbformat": 4,
  "nbformat_minor": 0,
  "metadata": {
    "colab": {
      "provenance": [],
      "authorship_tag": "ABX9TyOkOiqPy3umXKf0yMQy6iBk",
      "include_colab_link": true
    },
    "kernelspec": {
      "name": "python3",
      "display_name": "Python 3"
    },
    "language_info": {
      "name": "python"
    }
  },
  "cells": [
    {
      "cell_type": "markdown",
      "metadata": {
        "id": "view-in-github",
        "colab_type": "text"
      },
      "source": [
        "<a href=\"https://colab.research.google.com/github/zelal-Eizaldeen/data_qaulity_course/blob/main/2_Accuracy.ipynb\" target=\"_parent\"><img src=\"https://colab.research.google.com/assets/colab-badge.svg\" alt=\"Open In Colab\"/></a>"
      ]
    },
    {
      "cell_type": "code",
      "execution_count": null,
      "metadata": {
        "id": "2k5abaOxExGW"
      },
      "outputs": [],
      "source": []
    },
    {
      "cell_type": "markdown",
      "source": [
        "The following code will output the accuracy percentage based on the comparison between the actual and expected values:"
      ],
      "metadata": {
        "id": "S2fashC1E2Bj"
      }
    },
    {
      "cell_type": "markdown",
      "source": [
        "We’ll start by loading the required libraries"
      ],
      "metadata": {
        "id": "yuTDP5L7E5XY"
      }
    },
    {
      "cell_type": "code",
      "source": [
        "import pandas as pd"
      ],
      "metadata": {
        "id": "BJha830yE2sj"
      },
      "execution_count": 1,
      "outputs": []
    },
    {
      "cell_type": "markdown",
      "source": [
        "Next, we create a sample dataset named data and a reference dataset named reference_data. Both datasets have the same structure (columns: Name, Age, Gender, and City):"
      ],
      "metadata": {
        "id": "sFjwmsc3FAyJ"
      }
    },
    {
      "cell_type": "code",
      "source": [
        "data = {\n",
        "  'Name': ['Alice', 'Bob', 'Charlie', 'David', 'Eve'],\n",
        "  'Age': [25, 30, 28, 28, 22],\n",
        "  'Gender': ['Female', 'Male', 'Male', 'Male', 'Female'],\n",
        "  'City': ['New York', 'Los Angeles', 'Chicago', 'New York', 'San Francisco']\n",
        "}\n",
        "# Reference dataset for accuracy comparison\n",
        "reference_data = {\n",
        "  'Name': ['Alice', 'Bob', 'Charlie', 'David', 'Eve'],\n",
        "  'Age': [25, 30, 29, 28, 22],\n",
        "  'Gender': ['Female', 'Male', 'Male', 'Male', 'Female'],\n",
        "  'City': ['New York', 'Los Angeles', 'Chicago', 'New York', 'San Francisco']\n",
        "}"
      ],
      "metadata": {
        "id": "bGuWguoLFCP6"
      },
      "execution_count": 3,
      "outputs": []
    },
    {
      "cell_type": "markdown",
      "source": [
        "We create two pandas DataFrames, named df and reference_df, using the sample data and the reference data, respectively:"
      ],
      "metadata": {
        "id": "4Sxh1bpsFLX8"
      }
    },
    {
      "cell_type": "code",
      "source": [
        "df = pd.DataFrame(data)\n",
        "reference_df = pd.DataFrame(reference_data)"
      ],
      "metadata": {
        "id": "7-0Y6NGRFPD-"
      },
      "execution_count": 4,
      "outputs": []
    },
    {
      "cell_type": "markdown",
      "source": [
        "We create an accuracy_check variable and assign the result of the comparison between df and reference_df to it. This comparison is done using the == operator, which returns True for matching values and False for non-matching values:"
      ],
      "metadata": {
        "id": "yMSfDYsBFYhI"
      }
    },
    {
      "cell_type": "markdown",
      "source": [
        "We can compare the column with actual values to the column with expected values using the == operator."
      ],
      "metadata": {
        "id": "fLeA2Xh4FgoU"
      }
    },
    {
      "cell_type": "code",
      "source": [
        "accuracy_check = df == reference_df"
      ],
      "metadata": {
        "id": "0ttXQr35Fa5a"
      },
      "execution_count": 5,
      "outputs": []
    },
    {
      "cell_type": "markdown",
      "source": [
        "We then calculate the accuracy percentage by taking the mean of the accuracy_check DataFrame for each column. The mean operation treats True as 1 and False as 0, so it effectively calculates the percentage of matching values in each column:"
      ],
      "metadata": {
        "id": "K8UMp2zSFrn2"
      }
    },
    {
      "cell_type": "code",
      "source": [
        "accuracy_percentage = accuracy_check.mean() * 100"
      ],
      "metadata": {
        "id": "76cikxvRFu0s"
      },
      "execution_count": 6,
      "outputs": []
    },
    {
      "cell_type": "markdown",
      "source": [
        "Finally, we print the results"
      ],
      "metadata": {
        "id": "yjng4zITFzSn"
      }
    },
    {
      "cell_type": "code",
      "source": [
        "# Display the accuracy results\n",
        "print(\"Accuracy Check:\")\n",
        "print(accuracy_check)\n",
        "print(\"\\nAccuracy Percentage:\")\n",
        "print(accuracy_percentage)"
      ],
      "metadata": {
        "colab": {
          "base_uri": "https://localhost:8080/"
        },
        "id": "9nuaEDG1F1q_",
        "outputId": "225b39f8-1c49-428c-83fd-0b530fa986af"
      },
      "execution_count": 7,
      "outputs": [
        {
          "output_type": "stream",
          "name": "stdout",
          "text": [
            "Accuracy Check:\n",
            "   Name    Age  Gender  City\n",
            "0  True   True    True  True\n",
            "1  True   True    True  True\n",
            "2  True  False    True  True\n",
            "3  True   True    True  True\n",
            "4  True   True    True  True\n",
            "\n",
            "Accuracy Percentage:\n",
            "Name      100.0\n",
            "Age        80.0\n",
            "Gender    100.0\n",
            "City      100.0\n",
            "dtype: float64\n"
          ]
        }
      ]
    },
    {
      "cell_type": "markdown",
      "source": [
        "The accuracy check shows True where the data matches the reference dataset and False where it doesn’t. The accuracy percentage indicates the proportion of matching values in each column relative to the total number of records. This output indicates that the Age column is the only one that needs some more attention in this case. All the others are 100% accurate."
      ],
      "metadata": {
        "id": "2VHtucRsGAm1"
      }
    },
    {
      "cell_type": "markdown",
      "source": [
        "# Summary\n",
        "An accuracy percentage can be calculated by taking the mean (average) of the comparison results for all columns and multiplying by 100. This represents the proportion of matching data values relative to the total number of data points."
      ],
      "metadata": {
        "id": "HgM-e2OlGHvk"
      }
    },
    {
      "cell_type": "markdown",
      "source": [
        "The higher the percentage of accuracy is, the better!"
      ],
      "metadata": {
        "id": "YtnRsyWWGMS3"
      }
    }
  ]
}
