{
  "nbformat": 4,
  "nbformat_minor": 0,
  "metadata": {
    "colab": {
      "provenance": [],
      "authorship_tag": "ABX9TyOPJ7sv/4pL+NM1zmAnxXo9",
      "include_colab_link": true
    },
    "kernelspec": {
      "name": "python3",
      "display_name": "Python 3"
    },
    "language_info": {
      "name": "python"
    }
  },
  "cells": [
    {
      "cell_type": "markdown",
      "metadata": {
        "id": "view-in-github",
        "colab_type": "text"
      },
      "source": [
        "<a href=\"https://colab.research.google.com/github/zelal-Eizaldeen/data_qaulity_course/blob/main/5_uniqueness.ipynb\" target=\"_parent\"><img src=\"https://colab.research.google.com/assets/colab-badge.svg\" alt=\"Open In Colab\"/></a>"
      ]
    },
    {
      "cell_type": "code",
      "execution_count": 1,
      "metadata": {
        "id": "tH0dJp-j2GsU"
      },
      "outputs": [],
      "source": [
        "import pandas as pd"
      ]
    },
    {
      "cell_type": "markdown",
      "source": [
        "Create a sample dataset containing email addresses. We want to check whether all email addresses in the dataset are unique:"
      ],
      "metadata": {
        "id": "d8LPgCr72OWk"
      }
    },
    {
      "cell_type": "code",
      "source": [
        "# Create a sample dataset\n",
        "data = {\n",
        "    'Email': ['john.doe@example.com', 'jane.smith@example.com',\n",
        "    'james.doe@example.com', 'susan.brown@example.com'],\n",
        "}\n",
        "df = pd.DataFrame(data)"
      ],
      "metadata": {
        "id": "RtTi50Ts2MMU"
      },
      "execution_count": 2,
      "outputs": []
    },
    {
      "cell_type": "markdown",
      "source": [
        "check the uniqueness of the Email column to ensure that no email address is duplicated in the dataset:"
      ],
      "metadata": {
        "id": "X4QsIvLa2U4K"
      }
    },
    {
      "cell_type": "code",
      "source": [
        "# Check uniqueness and create a Boolean mask for duplicated email addresses\n",
        "duplicated_mask = df['Email'].duplicated(keep='first')\n",
        "print(duplicated_mask)\n",
        "# Create a new column to indicate uniqueness\n",
        "df['Uniqueness'] = ~duplicated_mask"
      ],
      "metadata": {
        "colab": {
          "base_uri": "https://localhost:8080/"
        },
        "id": "af5BEv_F2X4n",
        "outputId": "c1fcb899-3419-4020-ea57-1c622fd94561"
      },
      "execution_count": 6,
      "outputs": [
        {
          "output_type": "stream",
          "name": "stdout",
          "text": [
            "0    False\n",
            "1    False\n",
            "2    False\n",
            "3    False\n",
            "Name: Email, dtype: bool\n"
          ]
        }
      ]
    },
    {
      "cell_type": "markdown",
      "source": [
        "Next, we calculate the uniqueness percentage"
      ],
      "metadata": {
        "id": "pbyUC0GA2i5d"
      }
    },
    {
      "cell_type": "code",
      "source": [
        "unique_percentage = (df['Uniqueness'].sum() / len(df)) * 100\n"
      ],
      "metadata": {
        "id": "ovLxay_p2lLz"
      },
      "execution_count": 4,
      "outputs": []
    },
    {
      "cell_type": "markdown",
      "source": [
        "Finally, we display the results, including the dataset with the uniqueness check results. Here’s the output:"
      ],
      "metadata": {
        "id": "6NmxGpaE2sgO"
      }
    },
    {
      "cell_type": "markdown",
      "source": [
        "\n",
        "This output indicates that the values in the dataset are all unique.\n"
      ],
      "metadata": {
        "id": "y_Jp8Kza2v_F"
      }
    },
    {
      "cell_type": "code",
      "source": [
        "print(f\"Dataset with Uniqueness Check:\")\n",
        "print(df)\n",
        "print(f\"Percentage of Unique Records: {unique_percentage}\")"
      ],
      "metadata": {
        "colab": {
          "base_uri": "https://localhost:8080/"
        },
        "id": "oqri58h62r5A",
        "outputId": "993b5314-bb87-4ca2-ecc8-37d7ee6fcee9"
      },
      "execution_count": 5,
      "outputs": [
        {
          "output_type": "stream",
          "name": "stdout",
          "text": [
            "Dataset with Uniqueness Check:\n",
            "                     Email  Uniqueness\n",
            "0     john.doe@example.com        True\n",
            "1   jane.smith@example.com        True\n",
            "2    james.doe@example.com        True\n",
            "3  susan.brown@example.com        True\n",
            "Percentage of Unique Records: 100.0\n"
          ]
        }
      ]
    },
    {
      "cell_type": "markdown",
      "source": [
        "Uniqueness checks are commonly performed in various industries and use cases. Here are some common examples of uniqueness checks in real-world scenarios:"
      ],
      "metadata": {
        "id": "r86Q_rQH3igV"
      }
    },
    {
      "cell_type": "markdown",
      "source": [
        "- Customer IDs: In a customer database, each customer should have a unique identifier (customer ID) to prevent duplicate customer records\n",
        "- Email Addresses: Email addresses should be unique in a mailing list or user database to avoid sending duplicate messages or creating multiple accounts with the same email\n",
        "- Employee IDs: In HR databases, each employee typically has a unique employee ID to differentiate between employees and manage their records effectively\n",
        "- Vehicle Identification Numbers (VINs): In the automotive industry, VINs are unique identifiers for each vehicle to track their history and ownership\n"
      ],
      "metadata": {
        "id": "Ui-VHmyy3gtC"
      }
    },
    {
      "cell_type": "markdown",
      "source": [
        "When you have non-unique records in a dataset, it means that there are duplicate entries or records with identical key attributes (e.g., IDs, names, or email addresses) in the dataset. Non-unique records can lead to data quality issues and potentially cause errors in data analysis and reporting. To fix non-unique records in a dataset using Python, you can use various methods, including removing duplicates, aggregating data. I’ll discuss those strategies in later videos."
      ],
      "metadata": {
        "id": "hFK4MSrx3wNb"
      }
    }
  ]
}